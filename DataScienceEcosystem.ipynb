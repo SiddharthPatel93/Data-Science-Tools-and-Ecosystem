{
 "cells": [
  {
   "cell_type": "markdown",
   "id": "9a43c192-5bc5-4b77-a342-a3d8dc328e55",
   "metadata": {},
   "source": [
    "# Data Science Tools and Ecosystem"
   ]
  },
  {
   "cell_type": "markdown",
   "id": "d1815eaa-8e68-412e-981c-9db2d63cc8b5",
   "metadata": {},
   "source": [
    "In this notebook, Data Science Tools and Ecosystem are summarized"
   ]
  },
  {
   "cell_type": "markdown",
   "id": "78ecb381-b185-4020-989f-68f646b8b880",
   "metadata": {},
   "source": [
    "__Objectives:__\n",
    "- what data science is\n",
    "- common libraries used for machine learning, visualizations, and computing\n",
    "- Git and Github and how they are used for version control\n",
    "- Differnt coding enviroments"
   ]
  },
  {
   "cell_type": "markdown",
   "id": "ef5454f3-4094-4a11-84cf-25a280689038",
   "metadata": {},
   "source": [
    "Some of the popular languages that Data Scientists use are:\n",
    "1. Python\n",
    "2. R\n",
    "3. SQL\n",
    "4. Julia\n",
    "5. C++\n",
    "6. Java\n",
    "7. Javascript\n",
    "8. Scala"
   ]
  },
  {
   "cell_type": "markdown",
   "id": "8b57f425-3b83-4eb6-8090-c7b517ff09e0",
   "metadata": {},
   "source": [
    "Some of the commonly used libraries used by Data Scientists include:\n",
    "1. ggplot\n",
    "2. lattice\n",
    "3. leaflet\n",
    "4. NumPy\n",
    "5. Pandas\n",
    "6. TensorFlow\n",
    "7. PyTorch\n",
    "8. SciPy"
   ]
  },
  {
   "cell_type": "markdown",
   "id": "08c35a60-1f50-4b1b-98de-3eb030cb89a7",
   "metadata": {},
   "source": [
    "|Data Science Tools|\n",
    "------\n",
    "|Apache Hadoop|\n",
    "|RStudio|\n",
    "|Apache Spark|\n"
   ]
  },
  {
   "cell_type": "markdown",
   "id": "ef1cf58e-da4b-4020-9519-c51696023d2a",
   "metadata": {},
   "source": [
    "### Below are a few examples of evaluating arithmetic expressions in Python"
   ]
  },
  {
   "cell_type": "code",
   "execution_count": 7,
   "id": "5695942f-b0e2-4f16-ae48-f6d66ef741e5",
   "metadata": {},
   "outputs": [],
   "source": [
    "#This a simple arithmetic expression to mutiply then add integers"
   ]
  },
  {
   "cell_type": "code",
   "execution_count": 8,
   "id": "2ac7e9a8-5f3a-43e7-b0e6-b56fc7397ec0",
   "metadata": {},
   "outputs": [
    {
     "data": {
      "text/plain": [
       "17"
      ]
     },
     "execution_count": 8,
     "metadata": {},
     "output_type": "execute_result"
    }
   ],
   "source": [
    "(3*4)+5"
   ]
  },
  {
   "cell_type": "code",
   "execution_count": 9,
   "id": "c608b084-4802-4e7b-bc03-1adb6eac1adc",
   "metadata": {},
   "outputs": [],
   "source": [
    "#This will convert 200 minutes to hours by diving by 60"
   ]
  },
  {
   "cell_type": "code",
   "execution_count": 10,
   "id": "b70f7bdb-45b2-40f7-9194-b4fef4b11e40",
   "metadata": {},
   "outputs": [
    {
     "data": {
      "text/plain": [
       "3.3333333333333335"
      ]
     },
     "execution_count": 10,
     "metadata": {},
     "output_type": "execute_result"
    }
   ],
   "source": [
    "x=200\n",
    "y=60 #60mins in an hr\n",
    "x/y"
   ]
  },
  {
   "cell_type": "markdown",
   "id": "e0605d2d-c129-4785-9047-afc5fc613784",
   "metadata": {
    "tags": []
   },
   "source": [
    "## created by Siddharth Patel"
   ]
  },
  {
   "cell_type": "code",
   "execution_count": null,
   "id": "4ef482ea-f48d-45a3-8598-75ce27990011",
   "metadata": {},
   "outputs": [],
   "source": []
  }
 ],
 "metadata": {
  "kernelspec": {
   "display_name": "Python 3 (ipykernel)",
   "language": "python",
   "name": "python3"
  },
  "language_info": {
   "codemirror_mode": {
    "name": "ipython",
    "version": 3
   },
   "file_extension": ".py",
   "mimetype": "text/x-python",
   "name": "python",
   "nbconvert_exporter": "python",
   "pygments_lexer": "ipython3",
   "version": "3.10.9"
  }
 },
 "nbformat": 4,
 "nbformat_minor": 5
}
